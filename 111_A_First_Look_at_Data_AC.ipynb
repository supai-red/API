{
  "nbformat": 4,
  "nbformat_minor": 0,
  "metadata": {
    "colab": {
      "name": "111_A_First_Look_at_Data_AC",
      "provenance": [],
      "collapsed_sections": [],
      "include_colab_link": true
    },
    "kernelspec": {
      "name": "python3",
      "display_name": "Python 3"
    }
  },
  "cells": [
    {
      "cell_type": "markdown",
      "metadata": {
        "id": "view-in-github",
        "colab_type": "text"
      },
      "source": [
        "<a href=\"https://colab.research.google.com/github/supai-red/API/blob/master/111_A_First_Look_at_Data_AC.ipynb\" target=\"_parent\"><img src=\"https://colab.research.google.com/assets/colab-badge.svg\" alt=\"Open In Colab\"/></a>"
      ]
    },
    {
      "cell_type": "markdown",
      "metadata": {
        "id": "Okfr_uhwhS1X",
        "colab_type": "text"
      },
      "source": [
        "# Lambda School Data Science - A First Look at Data\n",
        "\n"
      ]
    },
    {
      "cell_type": "markdown",
      "metadata": {
        "id": "9dtJETFRhnOG",
        "colab_type": "text"
      },
      "source": [
        "## Lecture - let's explore Python DS libraries and examples!\n",
        "\n",
        "The Python Data Science ecosystem is huge. You've seen some of the big pieces - pandas, scikit-learn, matplotlib. What parts do you want to see more of?"
      ]
    },
    {
      "cell_type": "code",
      "metadata": {
        "id": "WiBkgmPJhmhE",
        "colab_type": "code",
        "outputId": "471fba89-aa50-426d-879f-31fab1fed4d8",
        "colab": {
          "base_uri": "https://localhost:8080/",
          "height": 34
        }
      },
      "source": [
        "2 + 2"
      ],
      "execution_count": 0,
      "outputs": [
        {
          "output_type": "execute_result",
          "data": {
            "text/plain": [
              "4"
            ]
          },
          "metadata": {
            "tags": []
          },
          "execution_count": 1
        }
      ]
    },
    {
      "cell_type": "markdown",
      "metadata": {
        "id": "lOqaPds9huME",
        "colab_type": "text"
      },
      "source": [
        "## Assignment - now it's your turn\n",
        "\n",
        "Pick at least one Python DS library, and using documentation/examples reproduce in this notebook something cool. It's OK if you don't fully understand it or get it 100% working, but do put in effort and look things up."
      ]
    },
    {
      "cell_type": "code",
      "metadata": {
        "id": "TGUS79cOhPWj",
        "colab_type": "code",
        "colab": {}
      },
      "source": [
        "# TODO - your code here\n",
        "##Using Pandas libraries to reproduce formatting\n",
        "# https://realpython.com/python-pandas-tricks/#1-configure-options-settings-at-interpreter-startup\n",
        "\n",
        "import pandas as pd\n",
        "\n",
        "def start ():\n",
        "  options = { \n",
        "      'display': {\n",
        "          'max_columns': None,\n",
        "          'max_colwidth': 25,\n",
        "          'expand_frame_repr': False, #don't wrap to multiple pages\n",
        "          'max_rows': 14, \n",
        "          'max_seq_items': 50, #max length of printed sequence\n",
        "          'precision': 4, #number of decimals\n",
        "          'show_dimensions': False\n",
        "      },\n",
        "      'mode': {\n",
        "          'chained_assignment': None #controls setting with copy warning \n",
        "      },\n",
        "  }\n",
        "\n",
        "  for category, option in options.items():\n",
        "    for op, value in option.items():\n",
        "      pd.set_option(f'{category}.{op}', value) #Python 3.6+\n",
        "\n",
        "if __name__ == '__main__':\n",
        "  start()\n",
        "  del start #clean up namespace in the interpreter"
      ],
      "execution_count": 0,
      "outputs": []
    },
    {
      "cell_type": "code",
      "metadata": {
        "id": "0AwpXg1odXnw",
        "colab_type": "code",
        "outputId": "deef4b0c-2d4f-43ec-f452-d786963913af",
        "colab": {
          "base_uri": "https://localhost:8080/",
          "height": 221
        }
      },
      "source": [
        "#testing the format settings\n",
        "url = ('https://archive.ics.uci.edu/ml/''machine-learning-databases/abalone/abalone.data')\n",
        "\n",
        "\n",
        "cols = ['sex', 'length', 'diam', 'height', 'weight', 'rings']\n",
        "abalone = pd.read_csv(url, usecols=[0, 1, 2, 3, 4, 8], names=cols)\n",
        "print(abalone.shape)\n",
        "abalone.head(5)\n",
        "\n",
        " "
      ],
      "execution_count": 0,
      "outputs": [
        {
          "output_type": "stream",
          "text": [
            "(4177, 6)\n"
          ],
          "name": "stdout"
        },
        {
          "output_type": "execute_result",
          "data": {
            "text/html": [
              "<div>\n",
              "<style scoped>\n",
              "    .dataframe tbody tr th:only-of-type {\n",
              "        vertical-align: middle;\n",
              "    }\n",
              "\n",
              "    .dataframe tbody tr th {\n",
              "        vertical-align: top;\n",
              "    }\n",
              "\n",
              "    .dataframe thead th {\n",
              "        text-align: right;\n",
              "    }\n",
              "</style>\n",
              "<table border=\"1\" class=\"dataframe\">\n",
              "  <thead>\n",
              "    <tr style=\"text-align: right;\">\n",
              "      <th></th>\n",
              "      <th>sex</th>\n",
              "      <th>length</th>\n",
              "      <th>diam</th>\n",
              "      <th>height</th>\n",
              "      <th>weight</th>\n",
              "      <th>rings</th>\n",
              "    </tr>\n",
              "  </thead>\n",
              "  <tbody>\n",
              "    <tr>\n",
              "      <th>0</th>\n",
              "      <td>M</td>\n",
              "      <td>0.455</td>\n",
              "      <td>0.365</td>\n",
              "      <td>0.095</td>\n",
              "      <td>0.5140</td>\n",
              "      <td>15</td>\n",
              "    </tr>\n",
              "    <tr>\n",
              "      <th>1</th>\n",
              "      <td>M</td>\n",
              "      <td>0.350</td>\n",
              "      <td>0.265</td>\n",
              "      <td>0.090</td>\n",
              "      <td>0.2255</td>\n",
              "      <td>7</td>\n",
              "    </tr>\n",
              "    <tr>\n",
              "      <th>2</th>\n",
              "      <td>F</td>\n",
              "      <td>0.530</td>\n",
              "      <td>0.420</td>\n",
              "      <td>0.135</td>\n",
              "      <td>0.6770</td>\n",
              "      <td>9</td>\n",
              "    </tr>\n",
              "    <tr>\n",
              "      <th>3</th>\n",
              "      <td>M</td>\n",
              "      <td>0.440</td>\n",
              "      <td>0.365</td>\n",
              "      <td>0.125</td>\n",
              "      <td>0.5160</td>\n",
              "      <td>10</td>\n",
              "    </tr>\n",
              "    <tr>\n",
              "      <th>4</th>\n",
              "      <td>I</td>\n",
              "      <td>0.330</td>\n",
              "      <td>0.255</td>\n",
              "      <td>0.080</td>\n",
              "      <td>0.2050</td>\n",
              "      <td>7</td>\n",
              "    </tr>\n",
              "  </tbody>\n",
              "</table>\n",
              "</div>"
            ],
            "text/plain": [
              "  sex  length   diam  height  weight  rings\n",
              "0   M   0.455  0.365   0.095  0.5140     15\n",
              "1   M   0.350  0.265   0.090  0.2255      7\n",
              "2   F   0.530  0.420   0.135  0.6770      9\n",
              "3   M   0.440  0.365   0.125  0.5160     10\n",
              "4   I   0.330  0.255   0.080  0.2050      7"
            ]
          },
          "metadata": {
            "tags": []
          },
          "execution_count": 16
        }
      ]
    },
    {
      "cell_type": "code",
      "metadata": {
        "id": "uQX2a047gpVd",
        "colab_type": "code",
        "outputId": "ca062e40-372b-48f2-c59c-d469cccd670c",
        "colab": {
          "base_uri": "https://localhost:8080/",
          "height": 221
        }
      },
      "source": [
        "#test 2\n",
        "url_2 =('https://archive.ics.uci.edu/ml/machine-learning-databases/forest-fires/forestfires.csv')\n",
        "cols = ['month', 'day', 'FFMC', 'temp', 'wind', 'rain']\n",
        "test = pd.read_csv(url_2, usecols=[2, 3, 4, 8, 10, 11], names=cols)\n",
        "print(test.shape)\n",
        "test.head(5)"
      ],
      "execution_count": 0,
      "outputs": [
        {
          "output_type": "stream",
          "text": [
            "(518, 6)\n"
          ],
          "name": "stdout"
        },
        {
          "output_type": "execute_result",
          "data": {
            "text/html": [
              "<div>\n",
              "<style scoped>\n",
              "    .dataframe tbody tr th:only-of-type {\n",
              "        vertical-align: middle;\n",
              "    }\n",
              "\n",
              "    .dataframe tbody tr th {\n",
              "        vertical-align: top;\n",
              "    }\n",
              "\n",
              "    .dataframe thead th {\n",
              "        text-align: right;\n",
              "    }\n",
              "</style>\n",
              "<table border=\"1\" class=\"dataframe\">\n",
              "  <thead>\n",
              "    <tr style=\"text-align: right;\">\n",
              "      <th></th>\n",
              "      <th>month</th>\n",
              "      <th>day</th>\n",
              "      <th>FFMC</th>\n",
              "      <th>temp</th>\n",
              "      <th>wind</th>\n",
              "      <th>rain</th>\n",
              "    </tr>\n",
              "  </thead>\n",
              "  <tbody>\n",
              "    <tr>\n",
              "      <th>0</th>\n",
              "      <td>month</td>\n",
              "      <td>day</td>\n",
              "      <td>FFMC</td>\n",
              "      <td>temp</td>\n",
              "      <td>wind</td>\n",
              "      <td>rain</td>\n",
              "    </tr>\n",
              "    <tr>\n",
              "      <th>1</th>\n",
              "      <td>mar</td>\n",
              "      <td>fri</td>\n",
              "      <td>86.2</td>\n",
              "      <td>8.2</td>\n",
              "      <td>6.7</td>\n",
              "      <td>0</td>\n",
              "    </tr>\n",
              "    <tr>\n",
              "      <th>2</th>\n",
              "      <td>oct</td>\n",
              "      <td>tue</td>\n",
              "      <td>90.6</td>\n",
              "      <td>18</td>\n",
              "      <td>0.9</td>\n",
              "      <td>0</td>\n",
              "    </tr>\n",
              "    <tr>\n",
              "      <th>3</th>\n",
              "      <td>oct</td>\n",
              "      <td>sat</td>\n",
              "      <td>90.6</td>\n",
              "      <td>14.6</td>\n",
              "      <td>1.3</td>\n",
              "      <td>0</td>\n",
              "    </tr>\n",
              "    <tr>\n",
              "      <th>4</th>\n",
              "      <td>mar</td>\n",
              "      <td>fri</td>\n",
              "      <td>91.7</td>\n",
              "      <td>8.3</td>\n",
              "      <td>4</td>\n",
              "      <td>0.2</td>\n",
              "    </tr>\n",
              "  </tbody>\n",
              "</table>\n",
              "</div>"
            ],
            "text/plain": [
              "   month  day  FFMC  temp  wind  rain\n",
              "0  month  day  FFMC  temp  wind  rain\n",
              "1    mar  fri  86.2   8.2   6.7     0\n",
              "2    oct  tue  90.6    18   0.9     0\n",
              "3    oct  sat  90.6  14.6   1.3     0\n",
              "4    mar  fri  91.7   8.3     4   0.2"
            ]
          },
          "metadata": {
            "tags": []
          },
          "execution_count": 19
        }
      ]
    },
    {
      "cell_type": "markdown",
      "metadata": {
        "id": "BT9gdS7viJZa",
        "colab_type": "text"
      },
      "source": [
        "### Assignment questions\n",
        "\n",
        "After you've worked on some code, answer the following questions in this text block:\n",
        "\n",
        "1.  Describe in a paragraph of text what you did and why, as if you were writing an email to somebody interested but nontechnical.\n",
        "\n",
        "2.  What was the most challenging part of what you did?\n",
        "\n",
        "3.  What was the most interesting thing you learned?\n",
        "\n",
        "4.  What area would you like to explore with more time?\n",
        "\n",
        "\n"
      ]
    },
    {
      "cell_type": "markdown",
      "metadata": {
        "id": "fJDJb0xGgQ5S",
        "colab_type": "text"
      },
      "source": [
        "1. I found formatting parameters for data output to improve the appearance of the columns and control the size of display. The formatting function was tested using a data set provided by the formatting source, and a data set used in LS precourse work.  "
      ]
    },
    {
      "cell_type": "markdown",
      "metadata": {
        "id": "BcQR6Vi9i8bw",
        "colab_type": "text"
      },
      "source": [
        "2. The most challenging part about what I did was trying to translate the formatting code in terms of the pandas documentation provided here:\n",
        "https://pandas.pydata.org/pandas-docs/stable/user_guide/options.html?highlight=options"
      ]
    },
    {
      "cell_type": "markdown",
      "metadata": {
        "id": "HwoTEe8Gjs_C",
        "colab_type": "text"
      },
      "source": [
        "3. The most interesting thing I learned is that I can customize the appearance of my output! "
      ]
    },
    {
      "cell_type": "markdown",
      "metadata": {
        "id": "EN-MzJ5uj1sj",
        "colab_type": "text"
      },
      "source": [
        "4. With more time, I would like to experiment with different output displays. "
      ]
    },
    {
      "cell_type": "markdown",
      "metadata": {
        "id": "_XXg2crAipwP",
        "colab_type": "text"
      },
      "source": [
        "## Stretch goals and resources\n",
        "\n",
        "Following are *optional* things for you to take a look at. Focus on the above assignment first, and make sure to commit and push your changes to GitHub (and since this is the first assignment of the sprint, open a PR as well).\n",
        "\n",
        "- [pandas documentation](https://pandas.pydata.org/pandas-docs/stable/)\n",
        "- [scikit-learn documentation](http://scikit-learn.org/stable/documentation.html)\n",
        "- [matplotlib documentation](https://matplotlib.org/contents.html)\n",
        "- [Awesome Data Science](https://github.com/bulutyazilim/awesome-datascience) - a list of many types of DS resources\n",
        "\n",
        "Stretch goals:\n",
        "\n",
        "- Find and read blogs, walkthroughs, and other examples of people working through cool things with data science - and share with your classmates!\n",
        "- Write a blog post (Medium is a popular place to publish) introducing yourself as somebody learning data science, and talking about what you've learned already and what you're excited to learn more about."
      ]
    },
    {
      "cell_type": "markdown",
      "metadata": {
        "id": "bGLlbsjwkGUw",
        "colab_type": "text"
      },
      "source": [
        "Sample blog post\n",
        "\n",
        "As someone new to the world of data science, one of the first things I'm learning is how to control the way the data looks. The way the data looks affects how easy it is to read and understand. Unsurprisingly, unformatted output is (usually) harder to read. Fortunately, there are some kind Python programmers that provide ready-made functions to control data output displays. \n",
        "\n",
        "I found this one at Real Python:\n",
        "https://realpython.com/python-pandas-tricks/#1-configure-options-settings-at-interpreter-startup\n",
        "\n",
        "This is just one example of how the Python community shares their work! \n",
        "\n",
        "Test this out on your data sets for a cleaner, more unform appearance.\n",
        "\n",
        "This formatting function depends on the **pandas** library. There are several Python libraries with shortcuts that radically reduce the work you have to do as a Python programmer. \n",
        "\n",
        "As a beginner, it's important to become comfortable reading dictionary documentation. The documentation for this pandas library feature depends on options:\n",
        "https://pandas.pydata.org/pandas-docs/stable/user_guide/options.html?highlight=options\n"
      ]
    }
  ]
}